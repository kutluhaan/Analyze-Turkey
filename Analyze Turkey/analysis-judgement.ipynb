{
 "cells": [
  {
   "cell_type": "code",
   "execution_count": 1,
   "metadata": {},
   "outputs": [
    {
     "data": {
      "text/html": [
       "<div>\n",
       "<style scoped>\n",
       "    .dataframe tbody tr th:only-of-type {\n",
       "        vertical-align: middle;\n",
       "    }\n",
       "\n",
       "    .dataframe tbody tr th {\n",
       "        vertical-align: top;\n",
       "    }\n",
       "\n",
       "    .dataframe thead th {\n",
       "        text-align: right;\n",
       "    }\n",
       "</style>\n",
       "<table border=\"1\" class=\"dataframe\">\n",
       "  <thead>\n",
       "    <tr style=\"text-align: right;\">\n",
       "      <th></th>\n",
       "      <th>Total</th>\n",
       "      <th>Male</th>\n",
       "      <th>Female</th>\n",
       "    </tr>\n",
       "  </thead>\n",
       "  <tbody>\n",
       "    <tr>\n",
       "      <th>2011</th>\n",
       "      <td>128253</td>\n",
       "      <td>123648</td>\n",
       "      <td>4605</td>\n",
       "    </tr>\n",
       "    <tr>\n",
       "      <th>2012</th>\n",
       "      <td>136638</td>\n",
       "      <td>131732</td>\n",
       "      <td>4906</td>\n",
       "    </tr>\n",
       "    <tr>\n",
       "      <th>2013</th>\n",
       "      <td>144098</td>\n",
       "      <td>138906</td>\n",
       "      <td>5192</td>\n",
       "    </tr>\n",
       "    <tr>\n",
       "      <th>2014</th>\n",
       "      <td>158690</td>\n",
       "      <td>152902</td>\n",
       "      <td>5788</td>\n",
       "    </tr>\n",
       "    <tr>\n",
       "      <th>2015</th>\n",
       "      <td>177262</td>\n",
       "      <td>170754</td>\n",
       "      <td>6508</td>\n",
       "    </tr>\n",
       "    <tr>\n",
       "      <th>2016</th>\n",
       "      <td>200727</td>\n",
       "      <td>192354</td>\n",
       "      <td>8373</td>\n",
       "    </tr>\n",
       "    <tr>\n",
       "      <th>2017</th>\n",
       "      <td>232340</td>\n",
       "      <td>222444</td>\n",
       "      <td>9896</td>\n",
       "    </tr>\n",
       "    <tr>\n",
       "      <th>2018</th>\n",
       "      <td>264842</td>\n",
       "      <td>254426</td>\n",
       "      <td>10416</td>\n",
       "    </tr>\n",
       "    <tr>\n",
       "      <th>2019</th>\n",
       "      <td>291546</td>\n",
       "      <td>280114</td>\n",
       "      <td>11432</td>\n",
       "    </tr>\n",
       "    <tr>\n",
       "      <th>2020</th>\n",
       "      <td>266831</td>\n",
       "      <td>256231</td>\n",
       "      <td>10600</td>\n",
       "    </tr>\n",
       "  </tbody>\n",
       "</table>\n",
       "</div>"
      ],
      "text/plain": [
       "       Total    Male Female\n",
       "2011  128253  123648   4605\n",
       "2012  136638  131732   4906\n",
       "2013  144098  138906   5192\n",
       "2014  158690  152902   5788\n",
       "2015  177262  170754   6508\n",
       "2016  200727  192354   8373\n",
       "2017  232340  222444   9896\n",
       "2018  264842  254426  10416\n",
       "2019  291546  280114  11432\n",
       "2020  266831  256231  10600"
      ]
     },
     "execution_count": 1,
     "metadata": {},
     "output_type": "execute_result"
    }
   ],
   "source": [
    "import pandas as pd\n",
    "df = pd.DataFrame(pd.read_excel(\"hükümlü ve tutuklu sayısı.xls\")).iloc[3:13]\n",
    "df.index = df[\"Hükümlü ve tutuklu sayısı, 2011-2020\"].tolist()\n",
    "df = df.drop(\"Hükümlü ve tutuklu sayısı, 2011-2020\", axis = 1)\n",
    "df.columns = [\"Total\", \"Male\", \"Female\"]\n",
    "df"
   ]
  },
  {
   "cell_type": "code",
   "execution_count": 2,
   "metadata": {},
   "outputs": [],
   "source": [
    "from database import Database\n",
    "db = Database() "
   ]
  },
  {
   "cell_type": "code",
   "execution_count": 3,
   "metadata": {},
   "outputs": [
    {
     "name": "stdout",
     "output_type": "stream",
     "text": [
      "Connected to the database.\n",
      "Table hukumlututuklusayısı created succesfully.\n",
      "Succesful insertion\n",
      "*****************************\n",
      "No unsuccesful insertions :)\n"
     ]
    }
   ],
   "source": [
    "unsuccesful_insertions = []\n",
    "succesful_insertions = []\n",
    "if db.try_to_connect():\n",
    "    name = \"hukumlututuklusayısı\"\n",
    "    dataframe = df\n",
    "    db.create_table(name, dataframe)\n",
    "    if db.insert_data(name,dataframe):\n",
    "        succesful_insertions.append(name)\n",
    "        print(\"*****************************\")\n",
    "    else:\n",
    "        print(f\"Unsuccesful insertion of creating {name} table\")\n",
    "        unsuccesful_insertions.append(name)\n",
    "        print(\"*****************************\")\n",
    "                \n",
    "if len(unsuccesful_insertions) == 0:\n",
    "    print(\"No unsuccesful insertions :)\")\n",
    "else:\n",
    "    print(\"Unsuccesful insertions are available\")\n",
    "    for insertion in unsuccesful_insertions:\n",
    "        print(f\"Table name: {insertion}\")"
   ]
  }
 ],
 "metadata": {
  "kernelspec": {
   "display_name": "Python 3",
   "language": "python",
   "name": "python3"
  },
  "language_info": {
   "codemirror_mode": {
    "name": "ipython",
    "version": 3
   },
   "file_extension": ".py",
   "mimetype": "text/x-python",
   "name": "python",
   "nbconvert_exporter": "python",
   "pygments_lexer": "ipython3",
   "version": "3.10.11"
  },
  "orig_nbformat": 4
 },
 "nbformat": 4,
 "nbformat_minor": 2
}
