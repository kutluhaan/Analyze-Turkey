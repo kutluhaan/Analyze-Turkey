{
 "cells": [
  {
   "cell_type": "code",
   "execution_count": 358,
   "metadata": {},
   "outputs": [],
   "source": [
    "import pandas as pd\n",
    "df = pd.DataFrame(pd.read_excel(\"suç türü ve uyruğuna göre suç işleyenler.xls\"))"
   ]
  },
  {
   "cell_type": "code",
   "execution_count": 359,
   "metadata": {},
   "outputs": [],
   "source": [
    "years = [2020, 2019, 2018, 2017, 2016, 2015, 2014, 2013, 2012, 2011]"
   ]
  },
  {
   "cell_type": "code",
   "execution_count": 360,
   "metadata": {},
   "outputs": [],
   "source": [
    "df = df.iloc[9:-5].reset_index(drop=True)\n",
    "df = df.drop(columns= [\"Unnamed: 4\", \"Unnamed: 7\"])\n",
    "df = df.replace(\"-\", 0)"
   ]
  },
  {
   "cell_type": "code",
   "execution_count": 361,
   "metadata": {},
   "outputs": [],
   "source": [
    "for index, row in df.iterrows():\n",
    "    if pd.isnull(row).all():\n",
    "        df.drop(index=index, inplace=True)\n",
    "df = df.reset_index(drop=True)"
   ]
  },
  {
   "cell_type": "code",
   "execution_count": 362,
   "metadata": {},
   "outputs": [],
   "source": [
    "new_columns = [\"Type of Crime\", \"Total\", \"Male\", \"Female\", \"T.C. Male\", \"T.C. Female\", \"Foreigner Male\", \"Foreigner Female\"]\n",
    "df.columns = new_columns"
   ]
  },
  {
   "cell_type": "code",
   "execution_count": 363,
   "metadata": {},
   "outputs": [
    {
     "name": "stdout",
     "output_type": "stream",
     "text": [
      "[0, 28, 56, 84, 111, 138, 165, 192, 219, 243]\n"
     ]
    }
   ],
   "source": [
    "indexes = df.index[df['Type of Crime'].isin(years)].tolist()\n",
    "print(indexes)"
   ]
  },
  {
   "cell_type": "code",
   "execution_count": 364,
   "metadata": {},
   "outputs": [],
   "source": [
    "year = 0\n",
    "holder1 = {}\n",
    "for element in range(len(indexes) - 1):\n",
    "    data = pd.DataFrame(df.iloc[indexes[element] + 1: indexes[element + 1]])\n",
    "    holder1[years[year]] = data\n",
    "    year += 1\n",
    "data = pd.DataFrame(df.iloc[244: df.shape[0] + 1])\n",
    "holder1[years[year]] = data"
   ]
  },
  {
   "cell_type": "code",
   "execution_count": 365,
   "metadata": {},
   "outputs": [],
   "source": [
    "column_names = df.columns[1:]\n",
    "for year in years:\n",
    "    for column in column_names:\n",
    "        holder1[year][column] = holder1[year][column].astype(int)"
   ]
  },
  {
   "cell_type": "code",
   "execution_count": 366,
   "metadata": {},
   "outputs": [],
   "source": [
    "indexes = [\"Toplam - Total\",\n",
    "\"Öldürme - Homicide\",\n",
    "\"Yaralama - Assault\",\n",
    "\"Cinsel suçlar - Sexual crimes\",\n",
    "\"Kişiyi hürriyetinden yoksun kılma - Kidnapping\",\n",
    "\"Hakaret - Defamation\",\n",
    "\"Hırsızlık - Theft\",\n",
    "\"Yağma (Gasp) - Robbery\",\n",
    "\"Dolandırıcılık - Swindling\",\n",
    "\"Uyuşturucu veya uyarıcı madde imal ve ticareti - Production and commerce of drugs\",\n",
    "\"Uyuşturucu veya uyarıcı madde kullanma, satın alma - Use and purchase of drugs\",\n",
    "\"Sahtecilik - Forgery\",\n",
    "\"Kötü muamele - Bad treatment\",\n",
    "\"Zimmet - Embezzlement\",\n",
    "\"Rüşvet - Bribery\",\n",
    "\"Kaçakçılık - Smuggling\",\n",
    "\"Trafik suçları - Traffic crimes\",\n",
    "\"Orman suçları - Forestry crimes\",\n",
    "\"Ateşli silahlar ve bıçaklar ile ilgili suçlar - Crimes related withfirearms and knifes\",\n",
    "\"İcra İflas Kanunu'na muhalefet - Opposition  to the  Bankruptcy and Enforcement Law\",\n",
    "\"Askeri Ceza Kanunu'na muhalefet - Opposition to the Military Criminal Law\",\n",
    "\"Tehdit - Threat\",\n",
    "\"Mala zarar verme - Damage to property\",\n",
    "\"Görevi yaptırmamak için direnme - Prevention of performance\",\n",
    "\"Ailenin korunması tedbirine aykırılık - Contrary to the measures for family protection\",\n",
    "\"Diğer suçlar - Other crimes\",\n",
    "\"Bilinmeyen - Unknown\"]\n",
    "df = holder1[2020]\n",
    "df[\"Type of Crime\"] = indexes\n",
    "holder1[2020] = df"
   ]
  },
  {
   "cell_type": "code",
   "execution_count": 367,
   "metadata": {},
   "outputs": [],
   "source": [
    "for hold in holder1:\n",
    "    holder1[hold] = holder1[hold].reset_index(drop=True)\n",
    "    indexes = [crime.split(' - ')[1] for crime in holder1[hold][\"Type of Crime\"].tolist()]\n",
    "    holder1[hold] = holder1[hold].drop(\"Type of Crime\", axis = 1)\n",
    "    holder1[hold].index = indexes"
   ]
  },
  {
   "cell_type": "code",
   "execution_count": 368,
   "metadata": {},
   "outputs": [],
   "source": [
    "df2 = pd.DataFrame(pd.read_excel(\"uyruğuna göre çıkanlar.xls\"))\n",
    "for column in df2.columns:\n",
    "    if df2[column].isnull().all():\n",
    "        df2 = df2.drop(columns=column)\n",
    "for index, row in df2.iterrows():\n",
    "    if pd.isnull(row).all():\n",
    "        df2.drop(index=index, inplace=True)\n",
    "        df2 = df2.reset_index(drop = True)\n",
    "df2.columns = new_columns\n",
    "df2 = df2.iloc[6:-4].reset_index(drop = True)"
   ]
  },
  {
   "cell_type": "code",
   "execution_count": 369,
   "metadata": {},
   "outputs": [
    {
     "name": "stdout",
     "output_type": "stream",
     "text": [
      "[0, 28, 56, 84, 111, 138, 165, 192, 219, 243]\n"
     ]
    }
   ],
   "source": [
    "indexes = df2.index[df2['Type of Crime'].isin(years)].tolist()\n",
    "print(indexes)"
   ]
  },
  {
   "cell_type": "code",
   "execution_count": 370,
   "metadata": {},
   "outputs": [],
   "source": [
    "year = 0\n",
    "holder0 = {}\n",
    "for element in range(len(indexes) - 1):\n",
    "    data = pd.DataFrame(df2.iloc[indexes[element] + 1: indexes[element + 1]])\n",
    "    holder0[years[year]] = data\n",
    "    year += 1\n",
    "data = pd.DataFrame(df2.iloc[244: df2.shape[0] + 1])\n",
    "holder0[years[year]] = data"
   ]
  },
  {
   "cell_type": "code",
   "execution_count": 371,
   "metadata": {},
   "outputs": [],
   "source": [
    "for hold in holder0:\n",
    "    rows_to_drop = []\n",
    "    for index, row in holder0[hold].iterrows():\n",
    "        if row.isna().any():\n",
    "            rows_to_drop.append(index)\n",
    "    holder0[hold] = holder0[hold].drop(rows_to_drop)\n",
    "column_names = df2.columns[1:]\n",
    "df2 = df2.replace(\"-\", 0)\n",
    "for year in years:\n",
    "    holder0[year] = holder0[year].replace(\"-\", 0)\n",
    "    for column in column_names:\n",
    "        holder0[year][column] = holder0[year][column].astype(int)"
   ]
  },
  {
   "cell_type": "code",
   "execution_count": 372,
   "metadata": {},
   "outputs": [],
   "source": [
    "for hold in holder0:\n",
    "    holder0[hold] = holder0[hold].reset_index(drop=True)\n",
    "    indexes = [crime.split('-')[1].strip() for crime in holder0[hold][\"Type of Crime\"].tolist()]\n",
    "    holder0[hold] = holder0[hold].drop(\"Type of Crime\", axis = 1)\n",
    "    holder0[hold].index = indexes"
   ]
  },
  {
   "cell_type": "code",
   "execution_count": 373,
   "metadata": {},
   "outputs": [],
   "source": [
    "holder = {0: holder0, 1: holder1}"
   ]
  },
  {
   "cell_type": "code",
   "execution_count": null,
   "metadata": {},
   "outputs": [],
   "source": []
  }
 ],
 "metadata": {
  "kernelspec": {
   "display_name": "Python 3",
   "language": "python",
   "name": "python3"
  },
  "language_info": {
   "codemirror_mode": {
    "name": "ipython",
    "version": 3
   },
   "file_extension": ".py",
   "mimetype": "text/x-python",
   "name": "python",
   "nbconvert_exporter": "python",
   "pygments_lexer": "ipython3",
   "version": "3.10.11"
  },
  "orig_nbformat": 4
 },
 "nbformat": 4,
 "nbformat_minor": 2
}
